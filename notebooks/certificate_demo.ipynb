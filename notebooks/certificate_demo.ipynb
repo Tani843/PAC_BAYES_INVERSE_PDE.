{
 "cells": [
  {
   "cell_type": "markdown",
   "id": "cfd15c41",
   "metadata": {},
   "source": []
  }
 ],
 "metadata": {
  "language_info": {
   "name": "python"
  }
 },
 "nbformat": 4,
 "nbformat_minor": 5
}
